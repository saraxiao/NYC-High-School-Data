{
 "cells": [
  {
   "cell_type": "code",
   "execution_count": 32,
   "metadata": {
    "collapsed": false
   },
   "outputs": [],
   "source": [
    "import pandas as pd\n",
    "import matplotlib.pyplot as plt\n",
    "%matplotlib inline\n",
    "import numpy as np\n",
    "import seaborn as sns\n",
    "\n",
    "from sklearn.linear_model import LinearRegression\n",
    "from sklearn.metrics import mean_squared_error\n",
    "from sklearn.model_selection import KFold"
   ]
  },
  {
   "cell_type": "code",
   "execution_count": 2,
   "metadata": {
    "collapsed": true
   },
   "outputs": [],
   "source": [
    "house = pd.read_csv('AmesHousing.tsv', sep='\\t')"
   ]
  },
  {
   "cell_type": "code",
   "execution_count": 3,
   "metadata": {
    "collapsed": false
   },
   "outputs": [
    {
     "data": {
      "text/plain": [
       "57088.251612639091"
      ]
     },
     "execution_count": 3,
     "metadata": {},
     "output_type": "execute_result"
    }
   ],
   "source": [
    "def transform_features(df):\n",
    "    return df\n",
    "def select_features(df):\n",
    "    return df[['Gr Liv Area','SalePrice']]\n",
    "def train_and_test(df):\n",
    "    train = df.iloc[:1460]\n",
    "    test = df.iloc[1460:]\n",
    "    lr = LinearRegression()\n",
    "    lr.fit(train.drop(['SalePrice'],axis=1),train['SalePrice'])\n",
    "    predictions = lr.predict(test.drop(['SalePrice'],axis=1))\n",
    "    mses = mean_squared_error(test['SalePrice'],predictions)\n",
    "    return mses**(1/2)\n",
    "\n",
    "transform_df = transform_features(house)\n",
    "filtered_df = select_features(transform_df)\n",
    "rmse = train_and_test(filtered_df)\n",
    "\n",
    "rmse\n"
   ]
  },
  {
   "cell_type": "markdown",
   "metadata": {},
   "source": [
    "### Feature Engineering\n",
    "\n",
    "* Handle missing values:\n",
    "  * All columns:\n",
    "    * Drop any with 5% or more missing values for now.\n",
    "  * Text columns:\n",
    "    * Drop any with 1 or more missing values for now.\n",
    "  * Numerical columns:\n",
    "    * For columns with missing values, fill in with the most common value in that column\n",
    "    \n",
    "1: All columns: Drop any with 5% or more missing values for now. "
   ]
  },
  {
   "cell_type": "code",
   "execution_count": 4,
   "metadata": {
    "collapsed": false,
    "scrolled": false
   },
   "outputs": [],
   "source": [
    "df = house.copy()\n",
    "missing = df.isnull().sum()\n",
    "drop_cols = missing[missing>len(df)*0.05].index\n",
    "df = df.drop(drop_cols, axis=1)"
   ]
  },
  {
   "cell_type": "markdown",
   "metadata": {},
   "source": [
    "2: Text columns: Drop any with 1 or more missing values for now."
   ]
  },
  {
   "cell_type": "code",
   "execution_count": 5,
   "metadata": {
    "collapsed": false
   },
   "outputs": [],
   "source": [
    "text_cols = df.select_dtypes(include=['object'])\n",
    "text_missing = text_cols.isnull().sum()\n",
    "text_missing_cols = text_missing[text_missing>=1]\n",
    "df = df.drop(text_missing_cols.index,axis=1)"
   ]
  },
  {
   "cell_type": "markdown",
   "metadata": {},
   "source": [
    "3: Numerical columns: For columns with missing values, fill in with the most common value in that column"
   ]
  },
  {
   "cell_type": "code",
   "execution_count": 6,
   "metadata": {
    "collapsed": false
   },
   "outputs": [
    {
     "name": "stdout",
     "output_type": "stream",
     "text": [
      "0    64\n",
      "dtype: int64\n"
     ]
    }
   ],
   "source": [
    "num_cols = df.select_dtypes(include=['int','float'])\n",
    "mode_cols = num_cols.mode()\n",
    "num_cols = num_cols.fillna(value=mode_cols.iloc[0])\n",
    "df[num_cols.columns] = num_cols\n",
    "print(df.isnull().sum().value_counts())"
   ]
  },
  {
   "cell_type": "markdown",
   "metadata": {},
   "source": [
    "* Create new features: years_till_sold, years_since_remod"
   ]
  },
  {
   "cell_type": "code",
   "execution_count": 7,
   "metadata": {
    "collapsed": false
   },
   "outputs": [
    {
     "data": {
      "text/html": [
       "<div>\n",
       "<table border=\"1\" class=\"dataframe\">\n",
       "  <thead>\n",
       "    <tr style=\"text-align: right;\">\n",
       "      <th></th>\n",
       "      <th>years_till_sold</th>\n",
       "      <th>years_since_remod</th>\n",
       "    </tr>\n",
       "  </thead>\n",
       "  <tbody>\n",
       "    <tr>\n",
       "      <th>count</th>\n",
       "      <td>2930.000000</td>\n",
       "      <td>2930.000000</td>\n",
       "    </tr>\n",
       "    <tr>\n",
       "      <th>mean</th>\n",
       "      <td>36.434130</td>\n",
       "      <td>12.910239</td>\n",
       "    </tr>\n",
       "    <tr>\n",
       "      <th>std</th>\n",
       "      <td>30.291357</td>\n",
       "      <td>24.032451</td>\n",
       "    </tr>\n",
       "    <tr>\n",
       "      <th>min</th>\n",
       "      <td>-1.000000</td>\n",
       "      <td>-1.000000</td>\n",
       "    </tr>\n",
       "    <tr>\n",
       "      <th>25%</th>\n",
       "      <td>7.000000</td>\n",
       "      <td>0.000000</td>\n",
       "    </tr>\n",
       "    <tr>\n",
       "      <th>50%</th>\n",
       "      <td>34.000000</td>\n",
       "      <td>0.000000</td>\n",
       "    </tr>\n",
       "    <tr>\n",
       "      <th>75%</th>\n",
       "      <td>54.000000</td>\n",
       "      <td>18.000000</td>\n",
       "    </tr>\n",
       "    <tr>\n",
       "      <th>max</th>\n",
       "      <td>136.000000</td>\n",
       "      <td>127.000000</td>\n",
       "    </tr>\n",
       "  </tbody>\n",
       "</table>\n",
       "</div>"
      ],
      "text/plain": [
       "       years_till_sold  years_since_remod\n",
       "count      2930.000000        2930.000000\n",
       "mean         36.434130          12.910239\n",
       "std          30.291357          24.032451\n",
       "min          -1.000000          -1.000000\n",
       "25%           7.000000           0.000000\n",
       "50%          34.000000           0.000000\n",
       "75%          54.000000          18.000000\n",
       "max         136.000000         127.000000"
      ]
     },
     "execution_count": 7,
     "metadata": {},
     "output_type": "execute_result"
    }
   ],
   "source": [
    "df['years_till_sold'] = df['Yr Sold'] - df['Year Built']\n",
    "df['years_since_remod'] = df['Year Remod/Add'] - df['Year Built']\n",
    "df[['years_till_sold','years_since_remod']].describe()"
   ]
  },
  {
   "cell_type": "markdown",
   "metadata": {},
   "source": [
    "Delete rows with values that doesn't make sense (<0) and drop the original year columns"
   ]
  },
  {
   "cell_type": "code",
   "execution_count": 8,
   "metadata": {
    "collapsed": false
   },
   "outputs": [],
   "source": [
    "df = df.drop(df[df['years_till_sold']<0].index)\n",
    "df = df.drop(df[df['years_since_remod']<0].index)\n",
    "df = df.drop(['Year Built','Year Remod/Add','Yr Sold'],axis=1)"
   ]
  },
  {
   "cell_type": "markdown",
   "metadata": {},
   "source": [
    "Drop columns that aren't useful for machine learning and leak data about the final sale"
   ]
  },
  {
   "cell_type": "code",
   "execution_count": 9,
   "metadata": {
    "collapsed": true
   },
   "outputs": [],
   "source": [
    "df = df.drop(['Order', 'PID'],axis=1)\n",
    "df = df.drop(['Mo Sold','Sale Type','Sale Condition'],axis=1)"
   ]
  },
  {
   "cell_type": "markdown",
   "metadata": {},
   "source": [
    "Update transform_features() with above code"
   ]
  },
  {
   "cell_type": "code",
   "execution_count": 10,
   "metadata": {
    "collapsed": false
   },
   "outputs": [
    {
     "data": {
      "text/plain": [
       "57088.251612639091"
      ]
     },
     "execution_count": 10,
     "metadata": {},
     "output_type": "execute_result"
    }
   ],
   "source": [
    "def transform_features(df):\n",
    "    \n",
    "\n",
    "    return df\n",
    "def select_features(df):\n",
    "    return df[['Gr Liv Area','SalePrice']]\n",
    "def train_and_test(df):\n",
    "    train = df.iloc[:1460]\n",
    "    test = df.iloc[1460:]\n",
    "    lr = LinearRegression()\n",
    "    lr.fit(train.drop(['SalePrice'],axis=1),train['SalePrice'])\n",
    "    predictions = lr.predict(test.drop(['SalePrice'],axis=1))\n",
    "    mses = mean_squared_error(test['SalePrice'],predictions)\n",
    "    return mses**(1/2)\n",
    "\n",
    "transform_df = transform_features(house)\n",
    "filtered_df = select_features(transform_df)\n",
    "rmse = train_and_test(filtered_df)\n",
    "\n",
    "rmse\n"
   ]
  },
  {
   "cell_type": "code",
   "execution_count": 11,
   "metadata": {
    "collapsed": false,
    "scrolled": false
   },
   "outputs": [],
   "source": [
    "df = house.copy()\n",
    "missing = df.isnull().sum()\n",
    "drop_cols = missing[missing>len(df)*0.05].index\n",
    "df = df.drop(drop_cols, axis=1)"
   ]
  },
  {
   "cell_type": "markdown",
   "metadata": {},
   "source": [
    "2: Text columns: Drop any with 1 or more missing values for now."
   ]
  },
  {
   "cell_type": "code",
   "execution_count": 12,
   "metadata": {
    "collapsed": false
   },
   "outputs": [],
   "source": [
    "text_cols = df.select_dtypes(include=['object'])\n",
    "text_missing = text_cols.isnull().sum()\n",
    "text_missing_cols = text_missing[text_missing>=1]\n",
    "df = df.drop(text_missing_cols.index,axis=1)"
   ]
  },
  {
   "cell_type": "markdown",
   "metadata": {},
   "source": [
    "3: Numerical columns: For columns with missing values, fill in with the most common value in that column"
   ]
  },
  {
   "cell_type": "code",
   "execution_count": 13,
   "metadata": {
    "collapsed": false
   },
   "outputs": [
    {
     "name": "stdout",
     "output_type": "stream",
     "text": [
      "0    64\n",
      "dtype: int64\n"
     ]
    }
   ],
   "source": [
    "num_cols = df.select_dtypes(include=['int','float'])\n",
    "mode_cols = num_cols.mode()\n",
    "num_cols = num_cols.fillna(value=mode_cols.iloc[0])\n",
    "df[num_cols.columns] = num_cols\n",
    "print(df.isnull().sum().value_counts())"
   ]
  },
  {
   "cell_type": "markdown",
   "metadata": {},
   "source": [
    "* Create new features: years_till_sold, years_since_remod"
   ]
  },
  {
   "cell_type": "code",
   "execution_count": 14,
   "metadata": {
    "collapsed": false
   },
   "outputs": [],
   "source": [
    "df['years_till_sold'] = df['Yr Sold'] - df['Year Built']\n",
    "df['years_since_remod'] = df['Yr Sold'] - df['Year Remod/Add']"
   ]
  },
  {
   "cell_type": "markdown",
   "metadata": {},
   "source": [
    "Delete rows with values that doesn't make sense (<0) and drop the original year columns"
   ]
  },
  {
   "cell_type": "code",
   "execution_count": 15,
   "metadata": {
    "collapsed": false
   },
   "outputs": [],
   "source": [
    "df = df.drop(df[df['years_till_sold']<0].index)\n",
    "df = df.drop(df[df['years_since_remod']<0].index)\n",
    "df = df.drop(['Year Built','Year Remod/Add','Yr Sold'],axis=1)"
   ]
  },
  {
   "cell_type": "markdown",
   "metadata": {},
   "source": [
    "Drop columns that aren't useful for machine learning and leak data about the final sale"
   ]
  },
  {
   "cell_type": "code",
   "execution_count": 16,
   "metadata": {
    "collapsed": true
   },
   "outputs": [],
   "source": [
    "df = df.drop(['Order','PID'],axis=1)\n",
    "df = df.drop(['Mo Sold','Sale Type','Sale Condition'],axis=1)"
   ]
  },
  {
   "cell_type": "markdown",
   "metadata": {},
   "source": [
    "Update transform_features() with above code"
   ]
  },
  {
   "cell_type": "code",
   "execution_count": 17,
   "metadata": {
    "collapsed": false
   },
   "outputs": [
    {
     "data": {
      "text/plain": [
       "55275.367312413073"
      ]
     },
     "execution_count": 17,
     "metadata": {},
     "output_type": "execute_result"
    }
   ],
   "source": [
    "def transform_features(df):\n",
    "    missing = df.isnull().sum()\n",
    "    drop_cols = missing[missing>len(df)*0.05].index\n",
    "    df = df.drop(drop_cols, axis=1)\n",
    "    \n",
    "    text_cols = df.select_dtypes(include=['object'])\n",
    "    text_missing = text_cols.isnull().sum()\n",
    "    text_missing_cols = text_missing[text_missing>=1]\n",
    "    df = df.drop(text_missing_cols.index,axis=1)\n",
    "    \n",
    "    num_cols = df.select_dtypes(include=['int','float'])\n",
    "    mode_cols = num_cols.mode()\n",
    "    num_cols = num_cols.fillna(value=mode_cols.iloc[0])\n",
    "    df[num_cols.columns] = num_cols\n",
    "    \n",
    "    df['years_till_sold'] = df['Yr Sold'] - df['Year Built']\n",
    "    df['years_since_remod'] = df['Yr Sold'] - df['Year Remod/Add']\n",
    "    \n",
    "    df = df.drop(df[df['years_till_sold']<0].index)\n",
    "    df = df.drop(df[df['years_since_remod']<0].index)\n",
    "    df = df.drop(['Year Built','Year Remod/Add','Yr Sold'],axis=1)\n",
    "    \n",
    "    df = df.drop(['Order','PID'],axis=1)\n",
    "    df = df.drop(['Mo Sold','Sale Type','Sale Condition'],axis=1)\n",
    "    return df\n",
    "def select_features(df):\n",
    "    return df[['Gr Liv Area','SalePrice']]\n",
    "def train_and_test(df):\n",
    "    train = df.iloc[:1460]\n",
    "    test = df.iloc[1460:]\n",
    "    lr = LinearRegression()\n",
    "    lr.fit(train.drop(['SalePrice'],axis=1),train['SalePrice'])\n",
    "    predictions = lr.predict(test.drop(['SalePrice'],axis=1))\n",
    "    mses = mean_squared_error(test['SalePrice'],predictions)\n",
    "    return mses**(1/2)\n",
    "\n",
    "transform_df = transform_features(house)\n",
    "filtered_df = select_features(transform_df)\n",
    "rmse = train_and_test(filtered_df)\n",
    "\n",
    "rmse\n"
   ]
  },
  {
   "cell_type": "markdown",
   "metadata": {},
   "source": [
    "## Feature Selection\n",
    "Generate correlation heatmap matrix of the numerical features in the training data set"
   ]
  },
  {
   "cell_type": "code",
   "execution_count": 18,
   "metadata": {
    "collapsed": false
   },
   "outputs": [
    {
     "data": {
      "text/plain": [
       "<matplotlib.axes._subplots.AxesSubplot at 0x7eff098d4a58>"
      ]
     },
     "execution_count": 18,
     "metadata": {},
     "output_type": "execute_result"
    },
    {
     "data": {
      "image/png": "[encoded data removed]",
      "text/plain": [
       "<matplotlib.figure.Figure at 0x7efe9c1ba588>"
      ]
     },
     "metadata": {},
     "output_type": "display_data"
    }
   ],
   "source": [
    "num_cols = df.select_dtypes(include=['int','float'])\n",
    "corrs = num_cols.corr()\n",
    "sns.heatmap(corrs)"
   ]
  },
  {
   "cell_type": "markdown",
   "metadata": {},
   "source": [
    "Examine the correlations between all numeric colunms and the target column,SalePrice"
   ]
  },
  {
   "cell_type": "code",
   "execution_count": 19,
   "metadata": {
    "collapsed": false
   },
   "outputs": [
    {
     "data": {
      "text/plain": [
       "SalePrice            1.000000\n",
       "Overall Qual         0.801206\n",
       "Gr Liv Area          0.717596\n",
       "Garage Cars          0.648361\n",
       "Total Bsmt SF        0.644012\n",
       "Garage Area          0.641425\n",
       "1st Flr SF           0.635185\n",
       "years_till_sold      0.558979\n",
       "Full Bath            0.546118\n",
       "years_since_remod    0.534985\n",
       "Mas Vnr Area         0.506983\n",
       "TotRms AbvGrd        0.498574\n",
       "Fireplaces           0.474831\n",
       "BsmtFin SF 1         0.439284\n",
       "Wood Deck SF         0.328183\n",
       "Open Porch SF        0.316262\n",
       "Half Bath            0.284871\n",
       "Bsmt Full Bath       0.276258\n",
       "2nd Flr SF           0.269601\n",
       "Lot Area             0.267520\n",
       "Bsmt Unf SF          0.182751\n",
       "Bedroom AbvGr        0.143916\n",
       "Enclosed Porch       0.128685\n",
       "Kitchen AbvGr        0.119760\n",
       "Screen Porch         0.112280\n",
       "Overall Cond         0.101540\n",
       "MS SubClass          0.085128\n",
       "Pool Area            0.068438\n",
       "Low Qual Fin SF      0.037629\n",
       "Bsmt Half Bath       0.035875\n",
       "3Ssn Porch           0.032268\n",
       "Misc Val             0.019273\n",
       "BsmtFin SF 2         0.006127\n",
       "Name: SalePrice, dtype: float64"
      ]
     },
     "execution_count": 19,
     "metadata": {},
     "output_type": "execute_result"
    }
   ],
   "source": [
    "np.absolute(corrs['SalePrice']).sort_values(ascending=False)"
   ]
  },
  {
   "cell_type": "markdown",
   "metadata": {},
   "source": [
    "Select features with strong correlations using 0.4 as cut off and avoid using coleanarity variables, e.g., garage cars & garage area, Gr Liv Area & 1st Flr SF, years_till_sold & years_since_remod, BsmtFin SF 1 & Total Bsmt SF"
   ]
  },
  {
   "cell_type": "code",
   "execution_count": 20,
   "metadata": {
    "collapsed": true
   },
   "outputs": [],
   "source": [
    "features = ['Overall Qual','Gr Liv Area','Garage Area','Total Bsmt SF'\n",
    "           'years_till_sold','Full Bath','Mas Vnr Area','TotRms AbvGrd','Fireplaces']"
   ]
  },
  {
   "cell_type": "code",
   "execution_count": 21,
   "metadata": {
    "collapsed": false
   },
   "outputs": [
    {
     "data": {
      "text/plain": [
       "36971.974444198"
      ]
     },
     "execution_count": 21,
     "metadata": {},
     "output_type": "execute_result"
    }
   ],
   "source": [
    "def transform_features(df):\n",
    "    missing = df.isnull().sum()\n",
    "    drop_cols = missing[missing>len(df)*0.05].index\n",
    "    df = df.drop(drop_cols, axis=1)\n",
    "    \n",
    "    text_cols = df.select_dtypes(include=['object'])\n",
    "    text_missing = text_cols.isnull().sum()\n",
    "    text_missing_cols = text_missing[text_missing>=1]\n",
    "    df = df.drop(text_missing_cols.index,axis=1)\n",
    "    \n",
    "    num_cols = df.select_dtypes(include=['int','float'])\n",
    "    mode_cols = num_cols.mode()\n",
    "    num_cols = num_cols.fillna(value=mode_cols.iloc[0])\n",
    "    df[num_cols.columns] = num_cols\n",
    "    \n",
    "    df['years_till_sold'] = df['Yr Sold'] - df['Year Built']\n",
    "    df['years_since_remod'] = df['Yr Sold'] - df['Year Remod/Add']\n",
    "    \n",
    "    df = df.drop(df[df['years_till_sold']<0].index)\n",
    "    df = df.drop(df[df['years_since_remod']<0].index)\n",
    "    df = df.drop(['Year Built','Year Remod/Add','Yr Sold'],axis=1)\n",
    "    \n",
    "    df = df.drop(['Order','PID'],axis=1)\n",
    "    df = df.drop(['Mo Sold','Sale Type','Sale Condition'],axis=1)\n",
    "    return df\n",
    "def select_features(df):\n",
    "    selected = ['Overall Qual','Gr Liv Area','Garage Area','Total Bsmt SF',\n",
    "           'years_till_sold','Full Bath','Mas Vnr Area','TotRms AbvGrd','Fireplaces','SalePrice']\n",
    "    return df[selected]\n",
    "def train_and_test(df):\n",
    "    train = df.iloc[:1460]\n",
    "    test = df.iloc[1460:]\n",
    "    lr = LinearRegression()\n",
    "    lr.fit(train.drop(['SalePrice'],axis=1),train['SalePrice'])\n",
    "    predictions = lr.predict(test.drop(['SalePrice'],axis=1))\n",
    "    mses = mean_squared_error(test['SalePrice'],predictions)\n",
    "    return mses**(1/2)\n",
    "\n",
    "transform_df = transform_features(house)\n",
    "filtered_df = select_features(transform_df)\n",
    "rmse = train_and_test(filtered_df)\n",
    "\n",
    "rmse\n"
   ]
  },
  {
   "cell_type": "markdown",
   "metadata": {},
   "source": [
    "Nominal columns:\n",
    "* nominal features that are currently numerical need to be changed to category\n",
    "* select columns less than 10 unique values\n",
    "* select columns with moderate variance\n",
    "\n",
    "First, we create a list of nominal features from the documentation."
   ]
  },
  {
   "cell_type": "code",
   "execution_count": 22,
   "metadata": {
    "collapsed": false
   },
   "outputs": [],
   "source": [
    "nominal_features = [\"PID\", \"MS SubClass\", \"MS Zoning\", \"Street\", \"Alley\", \"Land Contour\", \"Lot Config\", \"Neighborhood\", \n",
    "                    \"Condition 1\", \"Condition 2\", \"Bldg Type\", \"House Style\", \"Roof Style\", \"Roof Matl\", \"Exterior 1st\", \n",
    "                    \"Exterior 2nd\", \"Mas Vnr Type\", \"Foundation\", \"Heating\", \"Central Air\", \"Garage Type\", \n",
    "                    \"Misc Feature\", \"Sale Type\", \"Sale Condition\"]\n",
    "category_features = []\n",
    "for col in nominal_features:\n",
    "    if col in df:\n",
    "        category_features.append(col)\n",
    "        \n",
    "\n",
    "unique_count = df[category_features].apply(lambda col: len(col.value_counts()))\n",
    "drop_cols = unique_count[unique_count>=10].index\n",
    "keep_cols = unique_count[unique_count<10].index\n",
    "transform_df = df.drop(drop_cols, axis=1)"
   ]
  },
  {
   "cell_type": "code",
   "execution_count": 23,
   "metadata": {
    "collapsed": false
   },
   "outputs": [],
   "source": [
    "n = transform_df.shape[0]\n",
    "low_var_cols = []\n",
    "for col in keep_cols:\n",
    "    distribution = (transform_df[col].value_counts())*100/n\n",
    "    if distribution[0]>95:\n",
    "        low_var_cols.append(col)\n",
    "transform_df = transform_df.drop(low_var_cols,axis=1)"
   ]
  },
  {
   "cell_type": "markdown",
   "metadata": {},
   "source": [
    "Transform the text columns(nominal and some ordinal) to category type"
   ]
  },
  {
   "cell_type": "code",
   "execution_count": 24,
   "metadata": {
    "collapsed": false
   },
   "outputs": [],
   "source": [
    "text_cols = transform_df.select_dtypes(include=['object']).columns\n",
    "for col in text_cols:\n",
    "    transform_df[col] = transform_df[col].astype('category')\n",
    "\n",
    "transform_df = pd.concat([\n",
    "    transform_df, \n",
    "    pd.get_dummies(transform_df.select_dtypes(include=['category']))\n",
    "], axis=1)\n"
   ]
  },
  {
   "cell_type": "markdown",
   "metadata": {
    "collapsed": true
   },
   "source": [
    "Update select_features function."
   ]
  },
  {
   "cell_type": "code",
   "execution_count": 26,
   "metadata": {
    "collapsed": false
   },
   "outputs": [
    {
     "data": {
      "text/plain": [
       "36623.535629104757"
      ]
     },
     "execution_count": 26,
     "metadata": {},
     "output_type": "execute_result"
    }
   ],
   "source": [
    "def transform_features(df):\n",
    "    missing = df.isnull().sum()\n",
    "    drop_cols = missing[missing>len(df)*0.05].index\n",
    "    df = df.drop(drop_cols, axis=1)\n",
    "    \n",
    "    text_cols = df.select_dtypes(include=['object'])\n",
    "    text_missing = text_cols.isnull().sum()\n",
    "    text_missing_cols = text_missing[text_missing>=1]\n",
    "    df = df.drop(text_missing_cols.index,axis=1)\n",
    "    \n",
    "    num_cols = df.select_dtypes(include=['int','float'])\n",
    "    mode_cols = num_cols.mode()\n",
    "    num_cols = num_cols.fillna(value=mode_cols.iloc[0])\n",
    "    df[num_cols.columns] = num_cols\n",
    "    \n",
    "    df['years_till_sold'] = df['Yr Sold'] - df['Year Built']\n",
    "    df['years_since_remod'] = df['Yr Sold'] - df['Year Remod/Add']\n",
    "    \n",
    "    df = df.drop(df[df['years_till_sold']<0].index)\n",
    "    df = df.drop(df[df['years_since_remod']<0].index)\n",
    "    df = df.drop(['Year Built','Year Remod/Add','Yr Sold'],axis=1)\n",
    "    \n",
    "    df = df.drop(['Order','PID'],axis=1)\n",
    "    df = df.drop(['Mo Sold','Sale Type','Sale Condition'],axis=1)\n",
    "    return df\n",
    "\n",
    "def select_features(df,coeff_threshold=0.4, uniq_threshold=10):\n",
    "    num_cols = df.select_dtypes(include=['int','float'])\n",
    "    corrs = num_cols.corr()['SalePrice'].abs()\n",
    "    drop_features = corrs[corrs<coeff_threshold].index\n",
    "    df = df.drop(drop_features, axis=1)\n",
    "    \n",
    "    nominal_features = [\"PID\", \"MS SubClass\", \"MS Zoning\", \"Street\", \"Alley\", \"Land Contour\", \"Lot Config\", \"Neighborhood\", \n",
    "                    \"Condition 1\", \"Condition 2\", \"Bldg Type\", \"House Style\", \"Roof Style\", \"Roof Matl\", \"Exterior 1st\", \n",
    "                    \"Exterior 2nd\", \"Mas Vnr Type\", \"Foundation\", \"Heating\", \"Central Air\", \"Garage Type\", \n",
    "                    \"Misc Feature\", \"Sale Type\", \"Sale Condition\"]\n",
    "    category_features = []\n",
    "    for col in nominal_features:\n",
    "        if col in df:\n",
    "            category_features.append(col)\n",
    "        \n",
    "    unique_count = df[category_features].apply(lambda col: len(col.value_counts()))\n",
    "    drop_cols = unique_count[unique_count>=uniq_threshold].index\n",
    "    df = df.drop(drop_cols, axis=1)\n",
    "    \n",
    "    n = transform_df.shape[0]\n",
    "    low_var_cols = []\n",
    "    cols = transform_df.select_dtypes(include=['object']).columns \n",
    "    for col in cols:\n",
    "        distribution = (transform_df[col].value_counts())*100/n\n",
    "        if distribution[0]>95:\n",
    "            low_var_cols.append(col)\n",
    "    df = df.drop(low_var_cols,axis=1)\n",
    "    \n",
    "    text_cols = df.select_dtypes(include=['object']).columns\n",
    "    \n",
    "    for col in text_cols:\n",
    "        \n",
    "        df[col] = df[col].astype('category')\n",
    "        \n",
    "    df = pd.concat([df, pd.get_dummies(df.select_dtypes(include=['category']))], axis=1)\n",
    "    \n",
    "    return df\n",
    "\n",
    "def train_and_test(df):\n",
    "    numeric_df = df.select_dtypes(include=['int','float'])\n",
    "    features = numeric_df.columns.drop(['SalePrice'])\n",
    "    \n",
    "    train = numeric_df.iloc[:1460]\n",
    "    test = numeric_df.iloc[1460:]\n",
    "    lr = LinearRegression()\n",
    "    \n",
    "    lr.fit(train[features],train['SalePrice'])\n",
    "    predictions = lr.predict(test[features])\n",
    "    mses = mean_squared_error(test['SalePrice'],predictions)\n",
    "    return mses**(1/2)\n",
    "\n",
    "transform_df = transform_features(house)\n",
    "filtered_df = select_features(transform_df)\n",
    "rmse = train_and_test(filtered_df)\n",
    "\n",
    "rmse\n"
   ]
  },
  {
   "cell_type": "markdown",
   "metadata": {},
   "source": [
    "add parameters to the model"
   ]
  },
  {
   "cell_type": "code",
   "execution_count": 33,
   "metadata": {
    "collapsed": false
   },
   "outputs": [
    {
     "data": {
      "text/plain": [
       "33030.088294274225"
      ]
     },
     "execution_count": 33,
     "metadata": {},
     "output_type": "execute_result"
    }
   ],
   "source": [
    "def train_and_test(df,k=0):\n",
    "    numeric_df = df.select_dtypes(include=['int','float'])\n",
    "    features = numeric_df.columns.drop(['SalePrice'])\n",
    "    lr = LinearRegression()\n",
    "    if k == 0:\n",
    "        train = df.iloc[:1460]\n",
    "        test = df.iloc[1460:]\n",
    "        lr.fit(train[features],train['SalePrice'])\n",
    "        predictions = lr.predict(test[features])\n",
    "        mses = mean_squared_error(test['SalePrice'],predictions)\n",
    "        return mses**(1/2)\n",
    "    if k == 1:\n",
    "        \n",
    "        df = df.loc[np.random.permutation(len(numeric_df))]\n",
    "        \n",
    "        fold_one = numeric_df.iloc[:1460]\n",
    "        fold_two = numeric_df.iloc[1460:]\n",
    "        \n",
    "        lr.fit(fold_one[features],fold_one['SalePrice'])\n",
    "        predictions = lr.predict(fold_two[features])\n",
    "        mses_1 = mean_squared_error(fold_two['SalePrice'],predictions)\n",
    "        \n",
    "        lr.fit(fold_two[features],fold_two['SalePrice'])\n",
    "        predictions = lr.predict(fold_one[features])\n",
    "        mses_2 = mean_squared_error(fold_one['SalePrice'],predictions)\n",
    "        \n",
    "        return (mses_1**(1/2)+mses_2**(1/2))/2\n",
    "    else:\n",
    "        kf = KFold(n_splits=k,shuffle=True)\n",
    "        rmse = []\n",
    "        for train_index, test_index in kf.split(df):\n",
    "            train, test = df.iloc[train_index],df.iloc[test_index]\n",
    "            lr.fit(train[features],train['SalePrice'])\n",
    "            predictions = lr.predict(test[features])\n",
    "            mses = mean_squared_error(test['SalePrice'],predictions)\n",
    "            rmse.append(np.sqrt(mses))\n",
    "        return np.mean(rmse)\n",
    "\n",
    "transform_df = transform_features(house)\n",
    "filtered_df = select_features(transform_df)\n",
    "rmse = train_and_test(filtered_df,k=3)\n",
    "\n",
    "rmse\n"
   ]
  }
 ],
 "metadata": {
  "anaconda-cloud": {},
  "kernelspec": {
   "display_name": "Python 3",
   "language": "python",
   "name": "python3"
  },
  "language_info": {
   "codemirror_mode": {
    "name": "ipython",
    "version": 3
   },
   "file_extension": ".py",
   "mimetype": "text/x-python",
   "name": "python",
   "nbconvert_exporter": "python",
   "pygments_lexer": "ipython3",
   "version": "3.4.3"
  }
 },
 "nbformat": 4,
 "nbformat_minor": 2
}
