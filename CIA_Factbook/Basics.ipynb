{
 "cells": [
  {
   "cell_type": "markdown",
   "metadata": {},
   "source": [
    "q1: return the first 5 rows of the database"
   ]
  },
  {
   "cell_type": "code",
   "execution_count": 1,
   "metadata": {
    "collapsed": false
   },
   "outputs": [
    {
     "name": "stdout",
     "output_type": "stream",
     "text": [
      "   id code         name     area  area_land  area_water  population  \\\n",
      "0   1   af  Afghanistan   652230     652230           0    32564342   \n",
      "1   2   al      Albania    28748      27398        1350     3029278   \n",
      "2   3   ag      Algeria  2381741    2381741           0    39542166   \n",
      "3   4   an      Andorra      468        468           0       85580   \n",
      "4   5   ao       Angola  1246700    1246700           0    19625353   \n",
      "\n",
      "   population_growth  birth_rate  death_rate  migration_rate  \n",
      "0               2.32       38.57       13.89            1.51  \n",
      "1               0.30       12.92        6.58            3.30  \n",
      "2               1.84       23.67        4.31            0.92  \n",
      "3               0.12        8.13        6.96            0.00  \n",
      "4               2.78       38.78       11.49            0.46  \n"
     ]
    }
   ],
   "source": [
    "import pandas as pd\n",
    "import sqlite3\n",
    "conn = sqlite3.connect(\"factbook.db\")\n",
    "q1 = \"select * from facts limit 5\"\n",
    "results = pd.read_sql_query(q1,conn)\n",
    "print(results)"
   ]
  },
  {
   "cell_type": "markdown",
   "metadata": {},
   "source": [
    "q2: return the minimum and maximum of population and population grwoth"
   ]
  },
  {
   "cell_type": "code",
   "execution_count": 2,
   "metadata": {
    "collapsed": false
   },
   "outputs": [
    {
     "name": "stdout",
     "output_type": "stream",
     "text": [
      "   min(population)  max(population)  min(population_growth)  \\\n",
      "0                0       7256490011                     0.0   \n",
      "\n",
      "   max(population_growth)  \n",
      "0                    4.02  \n"
     ]
    }
   ],
   "source": [
    "q2=\"select min(population), max(population), min(population_growth), max(population_growth) from facts\"\n",
    "print(pd.read_sql_query(q2,conn))"
   ]
  },
  {
   "cell_type": "markdown",
   "metadata": {},
   "source": [
    "q3 & q4: return countries with minimum and maximum population"
   ]
  },
  {
   "cell_type": "code",
   "execution_count": 3,
   "metadata": {
    "collapsed": false
   },
   "outputs": [
    {
     "name": "stdout",
     "output_type": "stream",
     "text": [
      "countries with a population of 0\n",
      "          name\n",
      "0  Antarctica\n",
      "countries with a population of 7256490011\n",
      "     name\n",
      "0  World\n"
     ]
    }
   ],
   "source": [
    "q3=\"select name from facts where population==(select min(population) from facts)\"\n",
    "q4=\"select name from facts where population==(select max(population) from facts)\"\n",
    "print(\"countries with a population of 0\\n\", pd.read_sql_query(q3,conn))\n",
    "print(\"countries with a population of 7256490011\\n\",pd.read_sql_query(q4,conn))"
   ]
  },
  {
   "cell_type": "markdown",
   "metadata": {},
   "source": [
    "Nobody lived in Antarctica and the total population of the world was 7.2 billion."
   ]
  },
  {
   "cell_type": "code",
   "execution_count": 4,
   "metadata": {
    "collapsed": false
   },
   "outputs": [
    {
     "name": "stdout",
     "output_type": "stream",
     "text": [
      "population           1.367485e+09\n",
      "population_growth    4.020000e+00\n",
      "birth_rate           4.545000e+01\n",
      "death_rate           1.489000e+01\n",
      "dtype: float64\n"
     ]
    },
    {
     "data": {
      "image/png": "[encoded data removed]",
      "text/plain": [
       "<matplotlib.figure.Figure at 0x7fdcd3a25588>"
      ]
     },
     "metadata": {},
     "output_type": "display_data"
    }
   ],
   "source": [
    "q5 = \"select population,population_growth,birth_rate,death_rate from facts where name!='World' and name!='Antarctica'\"\n",
    "df = pd.read_sql_query(q5, conn)\n",
    "print(df.apply(max))\n",
    "import matplotlib.pyplot as plt\n",
    "%matplotlib inline\n",
    "fig = plt.figure()\n",
    "cols = df.columns\n",
    "for i in range(len(cols)):\n",
    "    ax = fig.add_subplot(2,2, i+1)\n",
    "    df[cols[i]].hist(ax=ax)\n",
    "    plt.title(cols[i])\n",
    "plt.tight_layout()\n",
    "plt.show()\n",
    "\n",
    "\n"
   ]
  },
  {
   "cell_type": "markdown",
   "metadata": {},
   "source": [
    "Which countries have the highest population density?"
   ]
  },
  {
   "cell_type": "code",
   "execution_count": 5,
   "metadata": {
    "collapsed": false
   },
   "outputs": [
    {
     "name": "stdout",
     "output_type": "stream",
     "text": [
      "    name       density\n",
      "0  Macau  21168.964286\n"
     ]
    }
   ],
   "source": [
    "q6 = \"select name, cast(population as float)/area_land density from facts order by density desc limit 1\"\n",
    "print(pd.read_sql_query(q6, conn))"
   ]
  },
  {
   "cell_type": "code",
   "execution_count": null,
   "metadata": {
    "collapsed": true
   },
   "outputs": [],
   "source": [
    "Generate a histogram of population densities."
   ]
  },
  {
   "cell_type": "code",
   "execution_count": 7,
   "metadata": {
    "collapsed": false
   },
   "outputs": [
    {
     "data": {
      "text/plain": [
       "<matplotlib.axes._subplots.AxesSubplot at 0x7fdd1f063ac8>"
      ]
     },
     "execution_count": 7,
     "metadata": {},
     "output_type": "execute_result"
    },
    {
     "data": {
      "image/png": "[encoded data removed]",
      "text/plain": [
       "<matplotlib.figure.Figure at 0x7fdd1f18f6a0>"
      ]
     },
     "metadata": {},
     "output_type": "display_data"
    }
   ],
   "source": [
    "q6_r = \"select name, cast(population as float)/area_land density from facts\"\n",
    "population_density = pd.read_sql_query(q6_r, conn)\n",
    "population_density[\"density\"].hist()"
   ]
  },
  {
   "cell_type": "markdown",
   "metadata": {},
   "source": [
    "Which countries have the highest ratios of water to land?"
   ]
  },
  {
   "cell_type": "code",
   "execution_count": 8,
   "metadata": {
    "collapsed": false
   },
   "outputs": [
    {
     "name": "stdout",
     "output_type": "stream",
     "text": [
      "                             name  water_to_land\n",
      "0  British Indian Ocean Territory     905.666667\n"
     ]
    }
   ],
   "source": [
    "q7 = \"select name, cast(area_water as float)/area_land water_to_land from facts order by water_to_land desc limit 1\"\n",
    "print(pd.read_sql_query(q7, conn))"
   ]
  },
  {
   "cell_type": "markdown",
   "metadata": {},
   "source": [
    "Which countries have more water than land\n",
    "q7_r = \"select name, cast(area_water as float)/area_land water_to_land from facts where water_to_land > 0.5\n",
    "print(pd.read_sql_query(q7_r, conn))"
   ]
  },
  {
   "cell_type": "code",
   "execution_count": 9,
   "metadata": {
    "collapsed": false
   },
   "outputs": [
    {
     "name": "stdout",
     "output_type": "stream",
     "text": [
      "                             name  water_to_land\n",
      "0  British Indian Ocean Territory     905.666667\n",
      "1                     Puerto Rico       0.554791\n",
      "2                  Virgin Islands       4.520231\n"
     ]
    }
   ],
   "source": [
    "q7_r = \"select name, cast(area_water as float)/area_land water_to_land from facts where water_to_land > 0.5\" \n",
    "print(pd.read_sql_query(q7_r, conn))"
   ]
  }
 ],
 "metadata": {
  "kernelspec": {
   "display_name": "Python 3",
   "language": "python",
   "name": "python3"
  },
  "language_info": {
   "codemirror_mode": {
    "name": "ipython",
    "version": 3
   },
   "file_extension": ".py",
   "mimetype": "text/x-python",
   "name": "python",
   "nbconvert_exporter": "python",
   "pygments_lexer": "ipython3",
   "version": "3.4.3"
  }
 },
 "nbformat": 4,
 "nbformat_minor": 2
}
